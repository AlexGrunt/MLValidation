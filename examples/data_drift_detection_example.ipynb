{
  "nbformat": 4,
  "nbformat_minor": 0,
  "metadata": {
    "colab": {
      "name": "data_drift_detection_example.ipynb",
      "provenance": [],
      "collapsed_sections": []
    },
    "kernelspec": {
      "name": "python3",
      "display_name": "Python 3"
    },
    "language_info": {
      "name": "python"
    }
  },
  "cells": [
    {
      "cell_type": "code",
      "execution_count": 211,
      "metadata": {
        "id": "JI7iEdEToSLm"
      },
      "outputs": [],
      "source": [
        "import pandas as pd\n",
        "import numpy as np\n",
        "import lightgbm as lgb\n",
        "import matplotlib.pyplot as plt\n",
        "import seaborn as sns\n",
        "\n",
        "from sklearn import model_selection\n",
        "from sklearn import preprocessing\n",
        "\n",
        "import warnings\n",
        "warnings.simplefilter(action='ignore', category=FutureWarning)"
      ]
    },
    {
      "cell_type": "markdown",
      "source": [
        "Воспользуемся публичными данными листинга Airbnb за март 2022 года."
      ],
      "metadata": {
        "id": "hLdRkeYMvOtr"
      }
    },
    {
      "cell_type": "code",
      "source": [
        "melb = pd.read_csv(\"listings_melb.csv\")\n",
        "sydney = pd.read_csv(\"listings_sydney.csv\")"
      ],
      "metadata": {
        "id": "ge2tKYLkqGC-"
      },
      "execution_count": 244,
      "outputs": []
    },
    {
      "cell_type": "markdown",
      "source": [
        "Для того, чтобы продемонстрировать, что такое **дрейф данных** возьмем в качестве обучающей выборки листиг Мельбурна, а в качестве тестовой листинг Сиднея. Возьмем только некоторые колонки."
      ],
      "metadata": {
        "id": "JqVflHfOu7Rd"
      }
    },
    {
      "cell_type": "code",
      "source": [
        "feats = [\n",
        "         \"number_of_reviews\",\n",
        "         \"minimum_nights\",\n",
        "         \"license\",\n",
        "         \"price\",\n",
        "         \"neighbourhood\",\n",
        "]\n",
        "\n",
        "cat_feats = [\"license\", \"neighbourhood\"]\n",
        "\n",
        "\n",
        "melb = melb[feats]\n",
        "sydney = sydney[feats]"
      ],
      "metadata": {
        "id": "RnO0Yyv6tsci"
      },
      "execution_count": 245,
      "outputs": []
    },
    {
      "cell_type": "markdown",
      "source": [
        "## Состязательная валидация (Adversarial Validation)\n",
        "\n",
        "Сперва попробуем определить наличие дрейфа данных с помощью состязательной валидации."
      ],
      "metadata": {
        "id": "WfPJhSKA0zLR"
      }
    },
    {
      "cell_type": "code",
      "source": [
        "def adv_val(\n",
        "    train,\n",
        "    test,\n",
        "    feats,\n",
        "    cat_feats,\n",
        "):\n",
        "    target = np.hstack([np.zeros(train.shape[0]), np.ones(test.shape[0])])\n",
        "    train = pd.concat([train, test], axis=0)\n",
        "    train = train[feats]\n",
        "\n",
        "    for col in cat_feats:\n",
        "        if train[col].dtype == object:\n",
        "            encoder = preprocessing.LabelEncoder()\n",
        "            train[col] = encoder.fit_transform(train[col].to_list())\n",
        "\n",
        "    train, test, y_train, y_test = model_selection.train_test_split(\n",
        "        train, target, test_size=0.33, random_state=1, shuffle=True\n",
        "    )\n",
        "\n",
        "    train = lgb.Dataset(train, label=y_train, categorical_feature=cat_feats)\n",
        "\n",
        "    test = lgb.Dataset(test, label=y_test, categorical_feature=cat_feats)\n",
        "\n",
        "    param = {\n",
        "        \"objective\": \"binary\",\n",
        "        \"learning_rate\": 0.01,\n",
        "        \"boosting\": \"gbdt\",\n",
        "        \"metric\": \"auc\",\n",
        "        \"verbosity\": -1,\n",
        "    }\n",
        "\n",
        "    clf = lgb.train(\n",
        "        param,\n",
        "        train,\n",
        "        num_boost_round=200,\n",
        "        valid_sets=[train, test],\n",
        "        verbose_eval=50,\n",
        "        early_stopping_rounds=50,\n",
        "    )\n",
        "\n",
        "    feature_imp = pd.DataFrame(\n",
        "        sorted(\n",
        "            zip(\n",
        "                clf.feature_importance(\n",
        "                    importance_type=\"gain\",\n",
        "                ),\n",
        "                clf.feature_name(),\n",
        "            )\n",
        "        ),\n",
        "        columns=[\"Feature Split Total Gain\", \"Feature\"],\n",
        "    )\n",
        "\n",
        "    plt.figure(figsize=(8, 8))\n",
        "    sns.barplot(\n",
        "        x=\"Feature Split Total Gain\",\n",
        "        y=\"Feature\",\n",
        "        data=feature_imp.sort_values(\n",
        "            by=\"Feature Split Total Gain\", ascending=False\n",
        "        ).head(100),\n",
        "    )\n",
        "\n",
        "    plt.title(\"LightGBM - Feature Importance\")\n",
        "    plt.tight_layout()\n",
        "    plt.show()\n",
        "\n",
        "    return clf, feature_imp"
      ],
      "metadata": {
        "id": "_Ddt_Chst4Zf"
      },
      "execution_count": 230,
      "outputs": []
    },
    {
      "cell_type": "code",
      "source": [
        "clf, feature_imp = adv_val(melb, sydney, feats, cat_feats)"
      ],
      "metadata": {
        "colab": {
          "base_uri": "https://localhost:8080/",
          "height": 738
        },
        "id": "ty_6_nKpxGuo",
        "outputId": "39255733-8c67-44bd-80f7-95a90158e06d"
      },
      "execution_count": 231,
      "outputs": [
        {
          "output_type": "stream",
          "name": "stderr",
          "text": [
            "/usr/local/lib/python3.7/dist-packages/lightgbm/basic.py:1205: UserWarning: Using categorical_feature in Dataset.\n",
            "  warnings.warn('Using categorical_feature in Dataset.')\n",
            "/usr/local/lib/python3.7/dist-packages/lightgbm/basic.py:762: UserWarning: categorical_feature in param dict is overridden.\n",
            "  warnings.warn('categorical_feature in param dict is overridden.')\n"
          ]
        },
        {
          "output_type": "stream",
          "name": "stdout",
          "text": [
            "Training until validation scores don't improve for 50 rounds.\n",
            "[50]\ttraining's auc: 1\tvalid_1's auc: 1\n",
            "[100]\ttraining's auc: 1\tvalid_1's auc: 1\n",
            "Early stopping, best iteration is:\n",
            "[52]\ttraining's auc: 1\tvalid_1's auc: 1\n"
          ]
        },
        {
          "output_type": "display_data",
          "data": {
            "text/plain": [
              "<Figure size 576x576 with 1 Axes>"
            ],
            "image/png": "[encoded data removed]"
          },
          "metadata": {
            "needs_background": "light"
          }
        }
      ]
    },
    {
      "cell_type": "markdown",
      "source": [
        "Сразу получаем значение `ROC AUC` равное 1, потому что название районов для двух этих городов, очевидно, разные. Попробуем удалить этот признак и провести состязательную валидацию еще раз"
      ],
      "metadata": {
        "id": "uQ-lIYWkK4eJ"
      }
    },
    {
      "cell_type": "code",
      "source": [
        "feats = [\n",
        "         \"number_of_reviews\",\n",
        "         \"minimum_nights\",\n",
        "         \"license\",\n",
        "         \"price\",\n",
        "]\n",
        "\n",
        "cat_feats = [\"license\"]\n",
        "\n",
        "\n",
        "melb = melb[feats]\n",
        "sydney = sydney[feats]\n",
        "\n",
        "clf, feature_imp = adv_val(melb, sydney, feats, cat_feats)"
      ],
      "metadata": {
        "colab": {
          "base_uri": "https://localhost:8080/",
          "height": 721
        },
        "id": "t5IF1Wk8LJOo",
        "outputId": "c7398494-6fb0-4bbe-d551-669bfd19726b"
      },
      "execution_count": 233,
      "outputs": [
        {
          "output_type": "stream",
          "name": "stderr",
          "text": [
            "/usr/local/lib/python3.7/dist-packages/lightgbm/basic.py:1205: UserWarning: Using categorical_feature in Dataset.\n",
            "  warnings.warn('Using categorical_feature in Dataset.')\n",
            "/usr/local/lib/python3.7/dist-packages/lightgbm/basic.py:762: UserWarning: categorical_feature in param dict is overridden.\n",
            "  warnings.warn('categorical_feature in param dict is overridden.')\n"
          ]
        },
        {
          "output_type": "stream",
          "name": "stdout",
          "text": [
            "Training until validation scores don't improve for 50 rounds.\n",
            "[50]\ttraining's auc: 0.999107\tvalid_1's auc: 0.997688\n",
            "Early stopping, best iteration is:\n",
            "[5]\ttraining's auc: 0.999122\tvalid_1's auc: 0.997571\n"
          ]
        },
        {
          "output_type": "display_data",
          "data": {
            "text/plain": [
              "<Figure size 576x576 with 1 Axes>"
            ],
            "image/png": "[encoded data removed]"
          },
          "metadata": {
            "needs_background": "light"
          }
        }
      ]
    },
    {
      "cell_type": "markdown",
      "source": [
        "Аналогично с `license`."
      ],
      "metadata": {
        "id": "r4UczO-3LW-v"
      }
    },
    {
      "cell_type": "code",
      "source": [
        "feats = [\n",
        "         \"number_of_reviews\",\n",
        "         \"minimum_nights\",\n",
        "         \"price\",\n",
        "]\n",
        "\n",
        "cat_feats = []\n",
        "\n",
        "\n",
        "melb = melb[feats]\n",
        "sydney = sydney[feats]\n",
        "\n",
        "clf, feature_imp = adv_val(melb, sydney, feats, cat_feats)"
      ],
      "metadata": {
        "colab": {
          "base_uri": "https://localhost:8080/",
          "height": 704
        },
        "id": "g_HfWwsvLWaO",
        "outputId": "957c5d64-1885-431b-bc6a-42d4dd58b7f5"
      },
      "execution_count": 234,
      "outputs": [
        {
          "output_type": "stream",
          "name": "stderr",
          "text": [
            "/usr/local/lib/python3.7/dist-packages/lightgbm/basic.py:1205: UserWarning: Using categorical_feature in Dataset.\n",
            "  warnings.warn('Using categorical_feature in Dataset.')\n"
          ]
        },
        {
          "output_type": "stream",
          "name": "stdout",
          "text": [
            "Training until validation scores don't improve for 50 rounds.\n",
            "[50]\ttraining's auc: 0.888765\tvalid_1's auc: 0.884264\n",
            "[100]\ttraining's auc: 0.891075\tvalid_1's auc: 0.884825\n",
            "Early stopping, best iteration is:\n",
            "[90]\ttraining's auc: 0.890697\tvalid_1's auc: 0.884894\n"
          ]
        },
        {
          "output_type": "display_data",
          "data": {
            "text/plain": [
              "<Figure size 576x576 with 1 Axes>"
            ],
            "image/png": "[encoded data removed]"
          },
          "metadata": {
            "needs_background": "light"
          }
        }
      ]
    },
    {
      "cell_type": "code",
      "source": [
        "feats = [\n",
        "         \"number_of_reviews\",\n",
        "         \"price\",\n",
        "]\n",
        "\n",
        "cat_feats = []\n",
        "\n",
        "\n",
        "melb = melb[feats]\n",
        "sydney = sydney[feats]\n",
        "\n",
        "clf, feature_imp = adv_val(melb, sydney, feats, cat_feats)"
      ],
      "metadata": {
        "colab": {
          "base_uri": "https://localhost:8080/",
          "height": 738
        },
        "id": "zOoLEfuoLjzp",
        "outputId": "8e9365c7-ee0c-4e65-b364-826fde85f54e"
      },
      "execution_count": 238,
      "outputs": [
        {
          "output_type": "stream",
          "name": "stderr",
          "text": [
            "/usr/local/lib/python3.7/dist-packages/lightgbm/basic.py:1205: UserWarning: Using categorical_feature in Dataset.\n",
            "  warnings.warn('Using categorical_feature in Dataset.')\n"
          ]
        },
        {
          "output_type": "stream",
          "name": "stdout",
          "text": [
            "Training until validation scores don't improve for 50 rounds.\n",
            "[50]\ttraining's auc: 0.616182\tvalid_1's auc: 0.597821\n",
            "[100]\ttraining's auc: 0.620458\tvalid_1's auc: 0.599475\n",
            "[150]\ttraining's auc: 0.624283\tvalid_1's auc: 0.600226\n",
            "[200]\ttraining's auc: 0.627574\tvalid_1's auc: 0.600418\n",
            "Did not meet early stopping. Best iteration is:\n",
            "[200]\ttraining's auc: 0.627574\tvalid_1's auc: 0.600418\n"
          ]
        },
        {
          "output_type": "display_data",
          "data": {
            "text/plain": [
              "<Figure size 576x576 with 1 Axes>"
            ],
            "image/png": "[encoded data removed]"
          },
          "metadata": {
            "needs_background": "light"
          }
        }
      ]
    },
    {
      "cell_type": "markdown",
      "source": [
        "## Индекс стабильности популяции\n",
        "\n",
        "Видим, что признак `price` все таки значительно разделяет эти две выборки, посмотрим на значения индекса стабильности популяции по каждому из признаков. Для этого воспользуемся реализованным на `PySpark` методом."
      ],
      "metadata": {
        "id": "ZZdC8n6W0WLf"
      }
    },
    {
      "cell_type": "code",
      "source": [
        "import pyspark.sql.functions as F\n",
        "from pyspark.sql import SparkSession\n",
        "\n",
        "from pyspark.ml.feature import Bucketizer, QuantileDiscretizer\n",
        "from pyspark.sql.types import StructType,StructField, StringType, IntegerType"
      ],
      "metadata": {
        "id": "4CRSlb0l1z3w"
      },
      "execution_count": 248,
      "outputs": []
    },
    {
      "cell_type": "code",
      "source": [
        "spark = (SparkSession\n",
        "    .builder\n",
        "    .getOrCreate())"
      ],
      "metadata": {
        "id": "SF0NgTonzgbm"
      },
      "execution_count": 240,
      "outputs": []
    },
    {
      "cell_type": "code",
      "source": [
        "def psi(actual, expected, column, num_buckets):\n",
        "  output_col = column + \"_bucket\"\n",
        "\n",
        "  qd = QuantileDiscretizer(\n",
        "      relativeError=0,\n",
        "      handleInvalid=\"keep\",\n",
        "      numBuckets=num_buckets,\n",
        "      inputCol=column,\n",
        "      outputCol=output_col,\n",
        "  )\n",
        "\n",
        "  bucketizer = qd.fit(expected)\n",
        "\n",
        "  ref_size = expected.count()\n",
        "  actual_size = actual.count()\n",
        "\n",
        "  ref_histogram = (\n",
        "      bucketizer.transform(expected.select(F.col(column)))\n",
        "      .groupBy(output_col)\n",
        "      .agg((F.count(F.lit(1)) / ref_size * 100).alias(\"ref_ratio\"))\n",
        "  )\n",
        "\n",
        "  actual_histogram = (\n",
        "      bucketizer.transform(actual.select(F.col(column)))\n",
        "      .groupBy(output_col)\n",
        "      .agg((F.count(F.lit(1)) / actual_size * 100).alias(\"actual_ratio\"))\n",
        "  )\n",
        "\n",
        "  joined_df = actual_histogram.join(\n",
        "      ref_histogram,\n",
        "      actual_histogram[output_col].eqNullSafe(ref_histogram[output_col]),\n",
        "      how=\"outer\"\n",
        "  ).fillna(0.001)\n",
        "\n",
        "  return get_psi_score(joined_df), joined_df\n",
        "\n",
        "\n",
        "def psi_categorical(actual, expected, column, eps):\n",
        "  binned_ref_df = expected.groupBy(column).count()\n",
        "  binned_df = actual.groupBy(column).count()\n",
        "\n",
        "  ref_size = binned_ref_df.groupBy().sum(\"count\").collect()[0][0]\n",
        "  actual_size = binned_df.groupBy().sum(\"count\").collect()[0][0]\n",
        "\n",
        "  ref_histogram = binned_ref_df.withColumn(\n",
        "      \"ref_ratio\",\n",
        "      (F.col(\"count\") / ref_size * 100)\n",
        "      ).drop(\"count\")\n",
        "\n",
        "  actual_histogram = binned_df.withColumn(\n",
        "      \"actual_ratio\",\n",
        "      (F.col(\"count\") / actual_size * 100)\n",
        "      ).drop(\"count\")\n",
        "\n",
        "  joined_df = actual_histogram.join(\n",
        "      ref_histogram.withColumnRenamed(column, f'{column}_ref'),\n",
        "      F.col(column).eqNullSafe(F.col(f'{column}_ref')),\n",
        "      how=\"outer\").drop(column, f'{column}_ref').fillna(eps)\n",
        "\n",
        "  return get_psi_score(joined_df), joined_df\n",
        "\n",
        "\n",
        "\n",
        "def get_psi_score(df):\n",
        "  res = (\n",
        "      df.withColumn(\"psi\",\n",
        "                    (F.col(\"actual_ratio\") - F.col(\"ref_ratio\"))\n",
        "                    * F.log(F.col(\"actual_ratio\") / F.col(\"ref_ratio\"))\n",
        "                    ).agg(F.sum(\"psi\").alias(\"psi\")).select(\"psi\").first()[0]\n",
        "  )\n",
        "\n",
        "  return res if res is not None else float(\"inf\")"
      ],
      "metadata": {
        "id": "3s9zyr4-1epM"
      },
      "execution_count": 241,
      "outputs": []
    },
    {
      "cell_type": "code",
      "source": [
        "melb.columns"
      ],
      "metadata": {
        "colab": {
          "base_uri": "https://localhost:8080/"
        },
        "id": "N13vgbMIMb2l",
        "outputId": "1c0e8a88-4b55-4c0c-a82d-b1621607aaa3"
      },
      "execution_count": 247,
      "outputs": [
        {
          "output_type": "execute_result",
          "data": {
            "text/plain": [
              "Index(['number_of_reviews', 'minimum_nights', 'license', 'price',\n",
              "       'neighbourhood'],\n",
              "      dtype='object')"
            ]
          },
          "metadata": {},
          "execution_count": 247
        }
      ]
    },
    {
      "cell_type": "code",
      "source": [
        "schema = StructType([\n",
        "    StructField(\"number_of_reviews\", IntegerType(),True),\n",
        "    StructField(\"minimum_nights\", IntegerType(),True),\n",
        "    StructField(\"license\",StringType(),True),\n",
        "    StructField(\"price\", IntegerType(), True),\n",
        "    StructField(\"neighbourhood\", StringType(), True),\n",
        "  ])\n",
        "\n",
        "melb_sdf = spark.createDataFrame(melb, schema)\n",
        "sydney_sdf = spark.createDataFrame(sydney, schema)"
      ],
      "metadata": {
        "id": "w_yMdFoq27WY"
      },
      "execution_count": 251,
      "outputs": []
    },
    {
      "cell_type": "code",
      "source": [
        "for feat in feats:\n",
        "  if feat in cat_feats:\n",
        "    psi_val, joined_df = psi_categorical(\n",
        "          actual=sydney_sdf,\n",
        "          expected=melb_sdf,\n",
        "          column=feat,\n",
        "          eps=0.01\n",
        "      )\n",
        "\n",
        "    print(f'For feat {feat} categorical psi = {psi_val}')\n",
        "    joined_df.show(10, False)\n",
        "    continue\n",
        "\n",
        "  psi_val, joined_df = psi(\n",
        "      actual=sydney_sdf,\n",
        "      expected=melb_sdf,\n",
        "      column=feat,\n",
        "      num_buckets=10,\n",
        "  )\n",
        "\n",
        "  print(f'For feat {feat} psi = {psi_val}')\n",
        "  joined_df.show(10, False)"
      ],
      "metadata": {
        "colab": {
          "base_uri": "https://localhost:8080/"
        },
        "id": "1mGn_ZFy3CwS",
        "outputId": "1274e461-3695-46e0-ebb7-9c6d3b3138f4"
      },
      "execution_count": 254,
      "outputs": [
        {
          "output_type": "stream",
          "name": "stdout",
          "text": [
            "For feat number_of_reviews psi = 7.023053335039197\n",
            "+------------------------+------------------+------------------------+------------------+\n",
            "|number_of_reviews_bucket|actual_ratio      |number_of_reviews_bucket|ref_ratio         |\n",
            "+------------------------+------------------+------------------------+------------------+\n",
            "|1.0                     |25.90110573931358 |1.0                     |21.802124220734242|\n",
            "|2.0                     |22.598248049399263|2.0                     |16.52043407988917 |\n",
            "|3.0                     |12.9768799961706  |3.0                     |11.371507734934196|\n",
            "|4.0                     |9.329376286439137 |4.0                     |9.761025167397829 |\n",
            "|5.0                     |8.419893734143889 |5.0                     |10.176633571923343|\n",
            "|6.0                     |7.874204202766742 |6.0                     |10.245901639344263|\n",
            "|7.0                     |6.658369632856253 |7.0                     |10.10159316555068 |\n",
            "|8.0                     |6.241922358910536 |8.0                     |10.020780420226275|\n",
            "+------------------------+------------------+------------------------+------------------+\n",
            "\n",
            "For feat minimum_nights psi = 136.28169081459095\n",
            "+---------------------+------------------+---------------------+------------------+\n",
            "|minimum_nights_bucket|actual_ratio      |minimum_nights_bucket|ref_ratio         |\n",
            "+---------------------+------------------+---------------------+------------------+\n",
            "|1.0                  |9.16662677708104  |1.0                  |33.5026552759178  |\n",
            "|2.0                  |11.928581685893446|2.0                  |29.54860309397368 |\n",
            "|3.0                  |7.639653439280073 |3.0                  |16.439621334564766|\n",
            "|4.0                  |3.2406299363362217|4.0                  |5.616485800046179 |\n",
            "|5.0                  |68.02450816140922 |5.0                  |14.892634495497575|\n",
            "+---------------------+------------------+---------------------+------------------+\n",
            "\n",
            "For feat license categorical psi = 82.84080384669933\n",
            "+--------------------+---------+\n",
            "|actual_ratio        |ref_ratio|\n",
            "+--------------------+---------+\n",
            "|0.019147001100952563|0.01     |\n",
            "|0.019147001100952563|0.01     |\n",
            "|0.047867502752381406|0.01     |\n",
            "|6.495620123498156   |0.01     |\n",
            "|61.50016753625963   |100.0    |\n",
            "|0.004786750275238141|0.01     |\n",
            "|0.004786750275238141|0.01     |\n",
            "|0.004786750275238141|0.01     |\n",
            "|0.004786750275238141|0.01     |\n",
            "|0.004786750275238141|0.01     |\n",
            "+--------------------+---------+\n",
            "only showing top 10 rows\n",
            "\n",
            "For feat price psi = 4.506095147389675\n",
            "+------------+------------------+------------+------------------+\n",
            "|price_bucket|actual_ratio      |price_bucket|ref_ratio         |\n",
            "+------------+------------------+------------+------------------+\n",
            "|0.0         |7.424249676894357 |0.0         |9.749480489494342 |\n",
            "|1.0         |9.774544062036284 |1.0         |10.095820826598938|\n",
            "|2.0         |9.013450768273419 |2.0         |9.178018933271762 |\n",
            "|3.0         |10.334593844239146|3.0         |10.70191641653198 |\n",
            "|4.0         |8.309798477813413 |4.0         |9.812976217963518 |\n",
            "|5.0         |6.624862380929588 |5.0         |8.745093511891017 |\n",
            "|6.0         |11.593509166626777|6.0         |11.677441699376587|\n",
            "|7.0         |9.530419797999139 |7.0         |9.899561302239668 |\n",
            "|8.0         |11.277583648461059|8.0         |10.084276148695452|\n",
            "|9.0         |16.11698817672682 |9.0         |10.055414453936736|\n",
            "+------------+------------------+------------+------------------+\n",
            "\n",
            "For feat neighbourhood categorical psi = 1278.121945328737\n",
            "+------------------+------------------+\n",
            "|actual_ratio      |ref_ratio         |\n",
            "+------------------+------------------+\n",
            "|0.7275860418361974|0.01              |\n",
            "|1.3785840792685846|0.01              |\n",
            "|0.646211287157149 |0.01              |\n",
            "|0.01              |0.9928422996998384|\n",
            "|0.01              |1.7836527360886631|\n",
            "|0.8951223014695322|0.01              |\n",
            "|0.01              |2.7303163241745554|\n",
            "|1.9003398592695417|0.01              |\n",
            "|0.01              |0.7330870468713923|\n",
            "|0.8903355511942941|0.01              |\n",
            "+------------------+------------------+\n",
            "only showing top 10 rows\n",
            "\n"
          ]
        }
      ]
    },
    {
      "cell_type": "markdown",
      "source": [
        "На этом примере можно проследить зависимость индекса от подбора $\\varepsilon = [0.01, 0.001, 0.0001, 0.00001, 10^{-14}]$. Эта разница может стать критической при росте числа мелких категорий."
      ],
      "metadata": {
        "id": "Yexg03tB_ouR"
      }
    },
    {
      "cell_type": "code",
      "source": [
        "for epsilon in [0.01, 0.001, 0.0001, 0.00001, 1e-14]:\n",
        "  psi_val, joined_df = psi_categorical(\n",
        "      actual=sydney_sdf,\n",
        "      expected=melb_sdf,\n",
        "      column='license',\n",
        "      eps=epsilon\n",
        "  )\n",
        "\n",
        "  print(f'For eps = {epsilon}, psi is {psi_val}')"
      ],
      "metadata": {
        "colab": {
          "base_uri": "https://localhost:8080/"
        },
        "id": "nmSHthv9-nV_",
        "outputId": "541a1b24-b242-4bbc-ecab-5bc0ab8e1167"
      },
      "execution_count": 255,
      "outputs": [
        {
          "output_type": "stream",
          "name": "stdout",
          "text": [
            "For eps = 0.01, psi is 82.84080384669933\n",
            "For eps = 0.001, psi is 125.38958750478292\n",
            "For eps = 0.0001, psi is 221.19536249524958\n",
            "For eps = 1e-05, psi is 311.73683331087545\n",
            "For eps = 1e-14, psi is 1109.9346226132222\n"
          ]
        }
      ]
    },
    {
      "cell_type": "markdown",
      "source": [
        "## Насколько на самом деле отличаются распределения?"
      ],
      "metadata": {
        "id": "3jWiQCNPCQni"
      }
    },
    {
      "cell_type": "markdown",
      "source": [
        "Посмотрим на распределния наших признаков на разных датасетах "
      ],
      "metadata": {
        "id": "MtOq8WWKCBMF"
      }
    },
    {
      "cell_type": "code",
      "source": [
        "def plot_pairwise_dist_plot(df_1, df_1_name, df_2, df_2_name, col_name, xlim=None, ylim=None):\n",
        "    fig = plt.figure(figsize=(10, 8))\n",
        "\n",
        "    \n",
        "    sns.distplot(df_1[col_name], color='dodgerblue', label='{}_{}'.format(df_1_name, col_name), kde_kws={'linewidth':3}, hist_kws={'alpha':.7}, bins=100)\n",
        "    sns.distplot(df_2[col_name], color='orange', label='{}_{}'.format(df_2_name, col_name), kde_kws={'linewidth':3}, hist_kws={'alpha':.7}, bins=100)\n",
        "    \n",
        "    if not xlim is None:\n",
        "        plt.xlim(xlim)\n",
        "    if not ylim is None:\n",
        "        plt.ylim(ylim)\n",
        "    \n",
        "    plt.title('{} distribution'.format(col_name))\n",
        "    plt.legend()\n",
        "    plt.show()\n",
        "\n"
      ],
      "metadata": {
        "id": "dKM52V0zDhSt"
      },
      "execution_count": 209,
      "outputs": []
    },
    {
      "cell_type": "code",
      "source": [
        "for feat in ['price', 'number_of_reviews']:\n",
        "  xlim_t = np.quantile(melb.fillna(0)[feat], 0.99)\n",
        "  plot_pairwise_dist_plot(sydney, 'actual', melb, 'expected', feat, [0, xlim_t])"
      ],
      "metadata": {
        "colab": {
          "base_uri": "https://localhost:8080/",
          "height": 1000
        },
        "id": "8vAe5F-1EQ-o",
        "outputId": "aaaa2e25-e4b8-41f8-b150-3dd3db265118"
      },
      "execution_count": 256,
      "outputs": [
        {
          "output_type": "display_data",
          "data": {
            "text/plain": [
              "<Figure size 720x576 with 1 Axes>"
            ],
            "image/png": "[encoded data removed]"
          },
          "metadata": {
            "needs_background": "light"
          }
        },
        {
          "output_type": "display_data",
          "data": {
            "text/plain": [
              "<Figure size 720x576 with 1 Axes>"
            ],
            "image/png": "[encoded data removed]"
          },
          "metadata": {
            "needs_background": "light"
          }
        }
      ]
    },
    {
      "cell_type": "code",
      "source": [
        "spark.stop()"
      ],
      "metadata": {
        "id": "mA1LZitJA4x5"
      },
      "execution_count": 257,
      "outputs": []
    },
    {
      "cell_type": "code",
      "source": [
        ""
      ],
      "metadata": {
        "id": "LfHNYEPJNka-"
      },
      "execution_count": null,
      "outputs": []
    }
  ]
}