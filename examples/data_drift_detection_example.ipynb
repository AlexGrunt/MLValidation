{
  "nbformat": 4,
  "nbformat_minor": 0,
  "metadata": {
    "colab": {
      "name": "data_drift_detection_example.ipynb",
      "provenance": [],
      "collapsed_sections": []
    },
    "kernelspec": {
      "name": "python3",
      "display_name": "Python 3"
    },
    "language_info": {
      "name": "python"
    }
  },
  "cells": [
    {
      "cell_type": "code",
      "execution_count": 61,
      "metadata": {
        "id": "JI7iEdEToSLm"
      },
      "outputs": [],
      "source": [
        "import pandas as pd\n",
        "import numpy as np\n",
        "import lightgbm as lgb\n",
        "import matplotlib.pyplot as plt\n",
        "import seaborn as sns\n",
        "\n",
        "from sklearn import model_selection\n",
        "from sklearn import preprocessing\n",
        "\n",
        "import warnings\n",
        "warnings.simplefilter(action='ignore', category=FutureWarning)"
      ]
    },
    {
      "cell_type": "markdown",
      "source": [
        "Воспользуемся публичными данными листинга Airbnb за март 2022 года."
      ],
      "metadata": {
        "id": "hLdRkeYMvOtr"
      }
    },
    {
      "cell_type": "code",
      "source": [
        "melb = pd.read_csv(\"listings_melb.csv\")\n",
        "sydney = pd.read_csv(\"listings_sydney.csv\")"
      ],
      "metadata": {
        "id": "ge2tKYLkqGC-"
      },
      "execution_count": 88,
      "outputs": []
    },
    {
      "cell_type": "markdown",
      "source": [
        "Для того, чтобы продемонстрировать, что такое **дрейф данных** возьмем в качестве обучающей выборки листиг Мельбурна, а в качестве тестовой листинг Сиднея. Возьмем только некоторые колонки."
      ],
      "metadata": {
        "id": "JqVflHfOu7Rd"
      }
    },
    {
      "cell_type": "code",
      "source": [
        "feats = [\"review_scores_value\", \"bedrooms\", \"price\"]\n",
        "\n",
        "melb = melb[feats]\n",
        "sydney = sydney[feats]\n",
        "\n",
        "sydney.price = (\n",
        "    sydney.price.str.slice(start=1, stop=-3)\n",
        "    .str.replace(\",\",\"\").astype(\"float\")\n",
        ")\n",
        "\n",
        "melb.price = (\n",
        "    melb.price.str.slice(start=1, stop=-3)\n",
        "    .str.replace(\",\",\"\").astype(\"float\")\n",
        ")"
      ],
      "metadata": {
        "id": "RnO0Yyv6tsci"
      },
      "execution_count": 89,
      "outputs": []
    },
    {
      "cell_type": "markdown",
      "source": [
        "## Состязательная валидация (Adversarial Validation)\n",
        "\n",
        "Сперва попробуем определить наличие дрейфа данных с помощью состязательной валидации."
      ],
      "metadata": {
        "id": "WfPJhSKA0zLR"
      }
    },
    {
      "cell_type": "code",
      "source": [
        "def adv_val(\n",
        "    train,\n",
        "    test,\n",
        "    feats,\n",
        "    cat_feats,\n",
        "):\n",
        "    target = np.hstack([np.zeros(train.shape[0]), np.ones(test.shape[0])])\n",
        "    train = pd.concat([train, test], axis=0)\n",
        "    train = train[feats]\n",
        "\n",
        "    for col in cat_feats:\n",
        "        if train[col].dtype == object:\n",
        "            encoder = preprocessing.LabelEncoder()\n",
        "            train[col] = encoder.fit_transform(train[col].to_list())\n",
        "\n",
        "    train, test, y_train, y_test = model_selection.train_test_split(\n",
        "        train, target, test_size=0.33, random_state=1, shuffle=True\n",
        "    )\n",
        "\n",
        "    train = lgb.Dataset(train, label=y_train, categorical_feature=cat_feats)\n",
        "\n",
        "    test = lgb.Dataset(test, label=y_test, categorical_feature=cat_feats)\n",
        "\n",
        "    param = {\n",
        "        \"objective\": \"binary\",\n",
        "        \"learning_rate\": 0.01,\n",
        "        \"boosting\": \"gbdt\",\n",
        "        \"metric\": \"auc\",\n",
        "        \"verbosity\": -1,\n",
        "    }\n",
        "\n",
        "    clf = lgb.train(\n",
        "        param,\n",
        "        train,\n",
        "        num_boost_round=200,\n",
        "        valid_sets=[train, test],\n",
        "        verbose_eval=50,\n",
        "        early_stopping_rounds=50,\n",
        "    )\n",
        "\n",
        "    feature_imp = pd.DataFrame(\n",
        "        sorted(\n",
        "            zip(\n",
        "                clf.feature_importance(\n",
        "                    importance_type=\"gain\",\n",
        "                ),\n",
        "                clf.feature_name(),\n",
        "            )\n",
        "        ),\n",
        "        columns=[\"Feature Split Total Gain\", \"Feature\"],\n",
        "    )\n",
        "\n",
        "    plt.figure(figsize=(8, 8))\n",
        "    sns.barplot(\n",
        "        x=\"Feature Split Total Gain\",\n",
        "        y=\"Feature\",\n",
        "        data=feature_imp.sort_values(\n",
        "            by=\"Feature Split Total Gain\", ascending=False\n",
        "        ).head(100),\n",
        "    )\n",
        "\n",
        "    plt.title(\"LightGBM - Feature Importance\")\n",
        "    plt.tight_layout()\n",
        "    plt.show()\n",
        "\n",
        "    return clf, feature_imp"
      ],
      "metadata": {
        "id": "_Ddt_Chst4Zf"
      },
      "execution_count": 176,
      "outputs": []
    },
    {
      "cell_type": "code",
      "source": [
        "clf, feature_imp = adv_val(melb, sydney, feats, [])"
      ],
      "metadata": {
        "colab": {
          "base_uri": "https://localhost:8080/",
          "height": 738
        },
        "id": "ty_6_nKpxGuo",
        "outputId": "8a0dac41-9fcc-47f4-e11f-6e3e32864e13"
      },
      "execution_count": 122,
      "outputs": [
        {
          "output_type": "stream",
          "name": "stderr",
          "text": [
            "/usr/local/lib/python3.7/dist-packages/lightgbm/basic.py:1205: UserWarning: Using categorical_feature in Dataset.\n",
            "  warnings.warn('Using categorical_feature in Dataset.')\n"
          ]
        },
        {
          "output_type": "stream",
          "name": "stdout",
          "text": [
            "Training until validation scores don't improve for 50 rounds.\n",
            "[50]\ttraining's auc: 0.635312\tvalid_1's auc: 0.613034\n",
            "[100]\ttraining's auc: 0.640659\tvalid_1's auc: 0.616285\n",
            "[150]\ttraining's auc: 0.645683\tvalid_1's auc: 0.618355\n",
            "[200]\ttraining's auc: 0.650458\tvalid_1's auc: 0.620965\n",
            "Did not meet early stopping. Best iteration is:\n",
            "[200]\ttraining's auc: 0.650458\tvalid_1's auc: 0.620965\n"
          ]
        },
        {
          "output_type": "display_data",
          "data": {
            "text/plain": [
              "<Figure size 576x576 with 1 Axes>"
            ],
            "image/png": "[encoded data removed]"
          },
          "metadata": {
            "needs_background": "light"
          }
        }
      ]
    },
    {
      "cell_type": "markdown",
      "source": [
        "Если считать `bedrooms` категориальным признаком."
      ],
      "metadata": {
        "id": "qA6v9t_s-LVJ"
      }
    },
    {
      "cell_type": "code",
      "source": [
        "clf, feature_imp = adv_val(melb, sydney, feats, ['bedrooms'])"
      ],
      "metadata": {
        "colab": {
          "base_uri": "https://localhost:8080/",
          "height": 772
        },
        "id": "oa-7Rek3-FWJ",
        "outputId": "1b14f23d-e34e-4281-a807-05f75cd9dc4a"
      },
      "execution_count": 145,
      "outputs": [
        {
          "output_type": "stream",
          "name": "stderr",
          "text": [
            "/usr/local/lib/python3.7/dist-packages/lightgbm/basic.py:1205: UserWarning: Using categorical_feature in Dataset.\n",
            "  warnings.warn('Using categorical_feature in Dataset.')\n",
            "/usr/local/lib/python3.7/dist-packages/lightgbm/basic.py:762: UserWarning: categorical_feature in param dict is overridden.\n",
            "  warnings.warn('categorical_feature in param dict is overridden.')\n"
          ]
        },
        {
          "output_type": "stream",
          "name": "stdout",
          "text": [
            "Training until validation scores don't improve for 50 rounds.\n",
            "[50]\ttraining's auc: 0.632044\tvalid_1's auc: 0.612004\n",
            "[100]\ttraining's auc: 0.639495\tvalid_1's auc: 0.614811\n",
            "[150]\ttraining's auc: 0.646174\tvalid_1's auc: 0.619308\n",
            "[200]\ttraining's auc: 0.650569\tvalid_1's auc: 0.621408\n",
            "Did not meet early stopping. Best iteration is:\n",
            "[200]\ttraining's auc: 0.650569\tvalid_1's auc: 0.621408\n"
          ]
        },
        {
          "output_type": "display_data",
          "data": {
            "text/plain": [
              "<Figure size 576x576 with 1 Axes>"
            ],
            "image/png": "[encoded data removed]"
          },
          "metadata": {
            "needs_background": "light"
          }
        }
      ]
    },
    {
      "cell_type": "markdown",
      "source": [
        "## Индекс стабильности популяции\n",
        "\n",
        "Видим, что признак `price` больше остальных разделяет эти две выборки, посмотрим на значения индекса стабильности популяции по каждому из признаков. Для этого воспользуемся реализованным на `PySpark` методом."
      ],
      "metadata": {
        "id": "ZZdC8n6W0WLf"
      }
    },
    {
      "cell_type": "code",
      "source": [
        "import pyspark.sql.functions as F\n",
        "from pyspark.sql import SparkSession\n",
        "\n",
        "from pyspark.ml.feature import Bucketizer, QuantileDiscretizer"
      ],
      "metadata": {
        "id": "4CRSlb0l1z3w"
      },
      "execution_count": 65,
      "outputs": []
    },
    {
      "cell_type": "code",
      "source": [
        "spark = (SparkSession\n",
        "    .builder\n",
        "    .getOrCreate())"
      ],
      "metadata": {
        "id": "SF0NgTonzgbm"
      },
      "execution_count": 60,
      "outputs": []
    },
    {
      "cell_type": "code",
      "source": [
        "def psi(actual, expected, column, num_buckets):\n",
        "  output_col = column + \"_bucket\"\n",
        "\n",
        "  qd = QuantileDiscretizer(\n",
        "      relativeError=0,\n",
        "      handleInvalid=\"keep\",\n",
        "      numBuckets=num_buckets,\n",
        "      inputCol=column,\n",
        "      outputCol=output_col,\n",
        "  )\n",
        "\n",
        "  bucketizer = qd.fit(expected)\n",
        "\n",
        "  ref_size = expected.count()\n",
        "  actual_size = actual.count()\n",
        "\n",
        "  ref_histogram = (\n",
        "      bucketizer.transform(expected.select(F.col(column)))\n",
        "      .groupBy(output_col)\n",
        "      .agg((F.count(F.lit(1)) / ref_size * 100).alias(\"ref_ratio\"))\n",
        "  )\n",
        "\n",
        "  actual_histogram = (\n",
        "      bucketizer.transform(actual.select(F.col(column)))\n",
        "      .groupBy(output_col)\n",
        "      .agg((F.count(F.lit(1)) / actual_size * 100).alias(\"actual_ratio\"))\n",
        "  )\n",
        "\n",
        "  joined_df = actual_histogram.join(\n",
        "      ref_histogram,\n",
        "      actual_histogram[output_col].eqNullSafe(ref_histogram[output_col]),\n",
        "      how=\"outer\"\n",
        "  ).fillna(0.001)\n",
        "\n",
        "  return get_psi_score(joined_df), joined_df\n",
        "\n",
        "\n",
        "def psi_categorical(actual, expected, column, eps):\n",
        "  binned_ref_df = expected.groupBy(column).count()\n",
        "  binned_df = actual.groupBy(column).count()\n",
        "\n",
        "  ref_size = binned_ref_df.groupBy().sum(\"count\").collect()[0][0]\n",
        "  actual_size = binned_df.groupBy().sum(\"count\").collect()[0][0]\n",
        "\n",
        "  ref_histogram = binned_ref_df.withColumn(\n",
        "      \"ref_ratio\",\n",
        "      (F.col(\"count\") / ref_size * 100)\n",
        "      ).drop(\"count\")\n",
        "\n",
        "  actual_histogram = binned_df.withColumn(\n",
        "      \"actual_ratio\",\n",
        "      (F.col(\"count\") / actual_size * 100)\n",
        "      ).drop(\"count\")\n",
        "\n",
        "  joined_df = actual_histogram.join(\n",
        "      ref_histogram.withColumnRenamed(column, f'{column}_ref'),\n",
        "      F.col(column).eqNullSafe(F.col(f'{column}_ref')),\n",
        "      how=\"outer\").drop(column, f'{column}_ref').fillna(eps)\n",
        "\n",
        "  return get_psi_score(joined_df), joined_df\n",
        "\n",
        "\n",
        "\n",
        "def get_psi_score(df):\n",
        "  res = (\n",
        "      df.withColumn(\"psi\",\n",
        "                    (F.col(\"actual_ratio\") - F.col(\"ref_ratio\"))\n",
        "                    * F.log(F.col(\"actual_ratio\") / F.col(\"ref_ratio\"))\n",
        "                    ).agg(F.sum(\"psi\").alias(\"psi\")).select(\"psi\").first()[0]\n",
        "  )\n",
        "\n",
        "  return res if res is not None else float(\"inf\")"
      ],
      "metadata": {
        "id": "3s9zyr4-1epM"
      },
      "execution_count": 163,
      "outputs": []
    },
    {
      "cell_type": "code",
      "source": [
        "melb_sdf = spark.createDataFrame(melb)\n",
        "sydney_sdf = spark.createDataFrame(sydney)"
      ],
      "metadata": {
        "id": "w_yMdFoq27WY"
      },
      "execution_count": 151,
      "outputs": []
    },
    {
      "cell_type": "code",
      "source": [
        "for feat in feats:\n",
        "  psi_val, joined_df = psi(\n",
        "      actual=sydney_sdf,\n",
        "      expected=melb_sdf,\n",
        "      column=feat,\n",
        "      num_buckets=10,\n",
        "  )\n",
        "\n",
        "  print(f'For feat {feat} psi = {psi_val}')\n",
        "  joined_df.show(20, False)"
      ],
      "metadata": {
        "colab": {
          "base_uri": "https://localhost:8080/"
        },
        "id": "1mGn_ZFy3CwS",
        "outputId": "c40bf9b1-69bc-4b13-bd04-011595c754f8"
      },
      "execution_count": 143,
      "outputs": [
        {
          "output_type": "stream",
          "name": "stdout",
          "text": [
            "For feat review_scores_value psi = 6.0871876137243675\n",
            "+--------------------------+------------------+--------------------------+------------------+\n",
            "|review_scores_value_bucket|actual_ratio      |review_scores_value_bucket|ref_ratio         |\n",
            "+--------------------------+------------------+--------------------------+------------------+\n",
            "|0.0                       |9.736250059834378 |0.0                       |7.423227891941815 |\n",
            "|1.0                       |5.815901584414341 |1.0                       |5.293234818748557 |\n",
            "|2.0                       |10.415968598918194|2.0                       |10.13622719926114 |\n",
            "|3.0                       |6.902493896893399 |3.0                       |7.463634264604018 |\n",
            "|4.0                       |5.9116365899191035|4.0                       |7.238513045486031 |\n",
            "|5.0                       |5.413814561294338 |5.0                       |8.012006465019626 |\n",
            "|6.0                       |4.207553491934326 |6.0                       |6.81135996305703  |\n",
            "|7.0                       |3.025226173950505 |7.0                       |5.70884322327407  |\n",
            "|8.0                       |19.783638887559235|8.0                       |18.188640036942967|\n",
            "|9.0                       |28.787516155282177|9.0                       |23.724313091664744|\n",
            "+--------------------------+------------------+--------------------------+------------------+\n",
            "\n",
            "For feat bedrooms psi = 1.835467026299939\n",
            "+---------------+------------------+---------------+------------------+\n",
            "|bedrooms_bucket|actual_ratio      |bedrooms_bucket|ref_ratio         |\n",
            "+---------------+------------------+---------------+------------------+\n",
            "|1.0            |53.783926092575754|1.0            |54.98730085430616 |\n",
            "|2.0            |22.6030347996745  |2.0            |26.137150773493417|\n",
            "|3.0            |16.854147719113495|3.0            |14.344262295081966|\n",
            "|4.0            |6.758891388636255 |4.0            |4.531286077118448 |\n",
            "+---------------+------------------+---------------+------------------+\n",
            "\n",
            "For feat price psi = 4.506095147389675\n",
            "+------------+------------------+------------+------------------+\n",
            "|price_bucket|actual_ratio      |price_bucket|ref_ratio         |\n",
            "+------------+------------------+------------+------------------+\n",
            "|0.0         |7.424249676894357 |0.0         |9.749480489494342 |\n",
            "|1.0         |9.774544062036284 |1.0         |10.095820826598938|\n",
            "|2.0         |9.013450768273419 |2.0         |9.178018933271762 |\n",
            "|3.0         |10.334593844239146|3.0         |10.70191641653198 |\n",
            "|4.0         |8.309798477813413 |4.0         |9.812976217963518 |\n",
            "|5.0         |6.624862380929588 |5.0         |8.745093511891017 |\n",
            "|6.0         |11.593509166626777|6.0         |11.677441699376587|\n",
            "|7.0         |9.530419797999139 |7.0         |9.899561302239668 |\n",
            "|8.0         |11.277583648461059|8.0         |10.084276148695452|\n",
            "|9.0         |16.11698817672682 |9.0         |10.055414453936736|\n",
            "+------------+------------------+------------+------------------+\n",
            "\n"
          ]
        }
      ]
    },
    {
      "cell_type": "markdown",
      "source": [
        "Аналогично, если считать `bedrooms` категориальным признаком."
      ],
      "metadata": {
        "id": "KLYZAAF2-TC5"
      }
    },
    {
      "cell_type": "code",
      "source": [
        "psi_val, joined_df = psi_categorical(\n",
        "      actual=sydney_sdf,\n",
        "      expected=melb_sdf,\n",
        "      column='bedrooms',\n",
        "      eps=0.01\n",
        "  )\n",
        "\n",
        "print(psi_val)\n",
        "joined_df.show(20, False)"
      ],
      "metadata": {
        "colab": {
          "base_uri": "https://localhost:8080/"
        },
        "id": "JeZD-_eo5kXJ",
        "outputId": "a3eb757a-2af4-41c2-eac2-de05adb0846d"
      },
      "execution_count": 175,
      "outputs": [
        {
          "output_type": "stream",
          "name": "stdout",
          "text": [
            "2.5350327518509976\n",
            "+--------------------+--------------------+\n",
            "|actual_ratio        |ref_ratio           |\n",
            "+--------------------+--------------------+\n",
            "|53.783926092575754  |54.98730085430616   |\n",
            "|22.6030347996745    |26.137150773493417  |\n",
            "|9.568713800201044   |9.189563611175249   |\n",
            "|5.15054329615624    |3.532671438466867   |\n",
            "|1.7423771001866835  |1.056338028169014   |\n",
            "|0.3254990187161936  |0.35788501500808123 |\n",
            "|0.04308075247714327 |0.12121911798660817 |\n",
            "|0.01                |0.04040637266220272 |\n",
            "|0.01                |0.011544677903486494|\n",
            "|0.009573500550476281|0.01731701685522974 |\n",
            "|0.004786750275238141|0.005772338951743247|\n",
            "|0.009573500550476281|0.005772338951743247|\n",
            "|0.01                |0.005772338951743247|\n",
            "|6.758891388636255   |4.531286077118448   |\n",
            "+--------------------+--------------------+\n",
            "\n"
          ]
        }
      ]
    },
    {
      "cell_type": "markdown",
      "source": [
        "В данном случае, значение индекса увеличится, потому что этот признак будет иметь разные категории в этих двух городах. На этом примере можно проследить зависимость индекса от подбора $\\varepsilon = [0.01, 0.001, 0.0001, 0.00001, 10^{-14}]$. Эта разница может стать критической при росте числа мелких категорий."
      ],
      "metadata": {
        "id": "Yexg03tB_ouR"
      }
    },
    {
      "cell_type": "code",
      "source": [
        "for epsilon in [0.01, 0.001, 0.0001, 0.00001, 1e-14]:\n",
        "  psi_val, joined_df = psi_categorical(\n",
        "      actual=sydney_sdf,\n",
        "      expected=melb_sdf,\n",
        "      column='bedrooms',\n",
        "      eps=epsilon\n",
        "  )\n",
        "\n",
        "  print(f'For eps = {epsilon}, psi is {psi_val}')"
      ],
      "metadata": {
        "colab": {
          "base_uri": "https://localhost:8080/"
        },
        "id": "nmSHthv9-nV_",
        "outputId": "09ca62c7-b45c-4b7f-b327-8909bd2a5cf1"
      },
      "execution_count": 174,
      "outputs": [
        {
          "output_type": "stream",
          "name": "stdout",
          "text": [
            "For eps = 0.01, psi is 2.5350327518509976\n",
            "For eps = 0.001, psi is 2.6699528200388065\n",
            "For eps = 0.0001, psi is 2.8092835212066074\n",
            "For eps = 1e-05, psi is 2.9434600038964316\n",
            "For eps = 1e-14, psi is 4.139894287874705\n"
          ]
        }
      ]
    },
    {
      "cell_type": "markdown",
      "source": [
        "## Насколько на самом деле отличаются распределения?"
      ],
      "metadata": {
        "id": "3jWiQCNPCQni"
      }
    },
    {
      "cell_type": "markdown",
      "source": [
        "Посмотрим на распределния наших признаков на разных датасетах "
      ],
      "metadata": {
        "id": "MtOq8WWKCBMF"
      }
    },
    {
      "cell_type": "code",
      "source": [
        "def plot_pairwise_dist_plot(df_1, df_1_name, df_2, df_2_name, col_name, xlim=None, ylim=None):\n",
        "    fig = plt.figure(figsize=(10, 8))\n",
        "\n",
        "    \n",
        "    sns.distplot(df_1[col_name], color='dodgerblue', label='{}_{}'.format(df_1_name, col_name), kde_kws={'linewidth':3}, hist_kws={'alpha':.7}, bins=100)\n",
        "    sns.distplot(df_2[col_name], color='orange', label='{}_{}'.format(df_2_name, col_name), kde_kws={'linewidth':3}, hist_kws={'alpha':.7}, bins=100)\n",
        "    \n",
        "    if not xlim is None:\n",
        "        plt.xlim(xlim)\n",
        "    if not ylim is None:\n",
        "        plt.ylim(ylim)\n",
        "    \n",
        "    plt.title('{} distribution'.format(col_name))\n",
        "    plt.legend()\n",
        "    plt.show()\n",
        "\n"
      ],
      "metadata": {
        "id": "dKM52V0zDhSt"
      },
      "execution_count": 209,
      "outputs": []
    },
    {
      "cell_type": "code",
      "source": [
        "for feat in ['price', 'review_scores_value']:\n",
        "  xlim_t = np.quantile(melb.fillna(0)[feat], 0.99)\n",
        "  plot_pairwise_dist_plot(sydney, 'actual', melb, 'expected', feat, [0, xlim_t])"
      ],
      "metadata": {
        "colab": {
          "base_uri": "https://localhost:8080/",
          "height": 1000
        },
        "id": "8vAe5F-1EQ-o",
        "outputId": "8ad38337-3df0-4bed-a102-ab1397a588d5"
      },
      "execution_count": 210,
      "outputs": [
        {
          "output_type": "display_data",
          "data": {
            "text/plain": [
              "<Figure size 720x576 with 1 Axes>"
            ],
            "image/png": "[encoded data removed]"
          },
          "metadata": {
            "needs_background": "light"
          }
        },
        {
          "output_type": "display_data",
          "data": {
            "text/plain": [
              "<Figure size 720x576 with 1 Axes>"
            ],
            "image/png": "[encoded data removed]"
          },
          "metadata": {
            "needs_background": "light"
          }
        }
      ]
    },
    {
      "cell_type": "code",
      "source": [
        "spark.stop()"
      ],
      "metadata": {
        "id": "mA1LZitJA4x5"
      },
      "execution_count": 177,
      "outputs": []
    }
  ]
}