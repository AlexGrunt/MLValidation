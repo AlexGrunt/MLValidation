{
  "nbformat": 4,
  "nbformat_minor": 0,
  "metadata": {
    "colab": {
      "name": "[1]adversarial_validation_tool.ipynb",
      "provenance": [],
      "collapsed_sections": []
    },
    "kernelspec": {
      "name": "python3",
      "display_name": "Python 3"
    },
    "language_info": {
      "name": "python"
    }
  },
  "cells": [
    {
      "cell_type": "code",
      "execution_count": null,
      "metadata": {
        "id": "4KNs3_uuCRHT"
      },
      "outputs": [],
      "source": [
        "import pandas as pd\n",
        "import numpy as np\n",
        "import matplotlib.pyplot as plt\n",
        "import seaborn as sns\n",
        "import collections\n",
        "\n",
        "from sklearn.model_selection import StratifiedKFold\n",
        "from sklearn.metrics import roc_auc_score\n",
        "from catboost import CatBoostClassifier\n",
        "from typing import Callable"
      ]
    },
    {
      "cell_type": "code",
      "source": [
        "def plot_feature_importance(importance,names,model_type):\n",
        "    \n",
        "    #Create arrays from feature importance and feature names\n",
        "    feature_importance = np.array(importance)\n",
        "    feature_names = np.array(names)\n",
        "    \n",
        "    #Create a DataFrame using a Dictionary\n",
        "    data={'feature_names':feature_names,'feature_importance':feature_importance}\n",
        "    fi_df = pd.DataFrame(data)\n",
        "    \n",
        "    #Sort the DataFrame in order decreasing feature importance\n",
        "    fi_df.sort_values(by=['feature_importance'], ascending=False,inplace=True)\n",
        "    \n",
        "    #Define size of bar plot\n",
        "    plt.figure(figsize=(10,8))\n",
        "    #Plot Searborn bar chart\n",
        "    sns.barplot(x=fi_df['feature_importance'], y=fi_df['feature_names'])\n",
        "    #Add chart labels\n",
        "    plt.title(model_type + 'FEATURE IMPORTANCE')\n",
        "    plt.xlabel('FEATURE IMPORTANCE')\n",
        "    plt.ylabel('FEATURE NAMES')"
      ],
      "metadata": {
        "id": "cpvkSyPCI7HT"
      },
      "execution_count": null,
      "outputs": []
    },
    {
      "cell_type": "code",
      "source": [
        "def compare_lists(a, b):\n",
        "  if collections.Counter(a) == collections.Counter(b):\n",
        "    return True\n",
        "  return False"
      ],
      "metadata": {
        "id": "wg9-GsyyHDcZ"
      },
      "execution_count": null,
      "outputs": []
    },
    {
      "cell_type": "code",
      "source": [
        "def concept_drift_check(\n",
        "    train_df, test_df, target_col=None, \n",
        "    plot_fi_diagram=False, plot_roc_auc=False, seed=42, \n",
        "    n_folds=5, early_stopping_rounds=10, iterations=5000):\n",
        "  if target_col is not None:\n",
        "    if target_col is not train_df.columns:\n",
        "      raise KeyError('target_col is not in train_df.columns')\n",
        "    train_df.drop('target_col', axis=1, inplace=True)\n",
        "  \n",
        "  if not compare_lists(train_df.columns, test_df.columns):\n",
        "    raise NameError('Found difference in train_df.columns and test_df.columns')\n",
        "  \n",
        "  train_df['is_train'] = 1\n",
        "  test_df['is_train'] = 0\n",
        "\n",
        "  X = pd.concat([train_df, test_df], axis=0)\n",
        "  y = X['is_train']\n",
        "  X.drop('is_train', axis=1, inplace=True)\n",
        "\n",
        "  skf = StratifiedKFold(n_splits=n_folds, shuffle=True, random_state=seed)\n",
        "\n",
        "  params = {\n",
        "        'eval_metric': 'AUC',\n",
        "        'learning_rate' : 0.05,\n",
        "        'iterations': iterations,\n",
        "    }\n",
        "\n",
        "  cat = CatBoostClassifier(**params, random_seed=seed)\n",
        "\n",
        "  scores = []\n",
        "\n",
        "  for fold, (train_id, test_id) in enumerate(skf.split(X, y)):\n",
        "    print('=' * 10)\n",
        "    print('Processing for Fold no. ', fold)\n",
        "\n",
        "    X_train, y_train = X.iloc[train_id], y.iloc[train_id] \n",
        "    X_valid, y_valid = X.iloc[test_id], y.iloc[test_id]\n",
        "\n",
        "    print('X_train.shape : ', X_train.shape)\n",
        "\n",
        "    cat.fit(\n",
        "        X_train, y_train,\n",
        "        eval_set=[(X_valid, y_valid)],\n",
        "        verbose=False,\n",
        "        early_stopping_rounds=early_stopping_rounds\n",
        "    )\n",
        "\n",
        "    valid_pred = cat.predict_proba(X_valid)[:, 1]\n",
        "    valid_score = roc_auc_score(y_valid, valid_pred)\n",
        "    scores.append(valid_score)\n",
        "    print('ROC_AUC score: ', valid_score)\n",
        "\n",
        "  if plot_fi_diagram:\n",
        "    cat.fit(\n",
        "      X_train, y_train,\n",
        "      verbose=False,\n",
        "      early_stopping_rounds=early_stopping_rounds\n",
        "    )\n",
        "    plot_feature_importance(\n",
        "        importance=cat.get_feature_importance(),\n",
        "        names=X.columns, \n",
        "        model_type='CatBoostClassifier')\n",
        "    plt.show()\n",
        "\n",
        "  if plot_roc_auc:\n",
        "    plt.figure(figsize=(10,8))\n",
        "    plt.plot(scores)\n",
        "    plt.ylim([0.0, 1.0])\n",
        "    plt.title('CatBoostClassifier ROC_AUC on CV')\n",
        "    plt.show()\n",
        "\n",
        "  return np.mean(scores)"
      ],
      "metadata": {
        "id": "0TYYp7fXCkwl"
      },
      "execution_count": 21,
      "outputs": []
    },
    {
      "cell_type": "markdown",
      "source": [
        "Ниже можно найти пример применения для California Housing Dataset"
      ],
      "metadata": {
        "id": "jVnEC3VmYKjY"
      }
    },
    {
      "cell_type": "code",
      "source": [
        "train = pd.read_csv('/content/sample_data/california_housing_train.csv')\n",
        "test = pd.read_csv('/content/sample_data/california_housing_test.csv')\n",
        "\n",
        "train.drop(columns=['median_house_value'], axis=1, inplace=True)\n",
        "test.drop(columns=['median_house_value'], axis=1, inplace=True)\n",
        "\n",
        "mean_score = concept_drift_check(train, test, plot_fi_diagram=True, plot_roc_auc=True, iterations=2000)"
      ],
      "metadata": {
        "colab": {
          "base_uri": "https://localhost:8080/",
          "height": 1000
        },
        "id": "CcSVnDHEMHNO",
        "outputId": "66e0d272-8cef-4081-827e-fca1002a2dfa"
      },
      "execution_count": 22,
      "outputs": [
        {
          "output_type": "stream",
          "name": "stdout",
          "text": [
            "==========\n",
            "Processing for Fold no.  0\n",
            "X_train.shape :  (16000, 8)\n",
            "ROC_AUC score:  0.5042303921568627\n",
            "==========\n",
            "Processing for Fold no.  1\n",
            "X_train.shape :  (16000, 8)\n",
            "ROC_AUC score:  0.529925\n",
            "==========\n",
            "Processing for Fold no.  2\n",
            "X_train.shape :  (16000, 8)\n",
            "ROC_AUC score:  0.5091323529411764\n",
            "==========\n",
            "Processing for Fold no.  3\n",
            "X_train.shape :  (16000, 8)\n",
            "ROC_AUC score:  0.5245524509803922\n",
            "==========\n",
            "Processing for Fold no.  4\n",
            "X_train.shape :  (16000, 8)\n",
            "ROC_AUC score:  0.5155458333333334\n"
          ]
        },
        {
          "output_type": "display_data",
          "data": {
            "image/png": "[encoded data removed]",
            "text/plain": [
              "<Figure size 720x576 with 1 Axes>"
            ]
          },
          "metadata": {
            "needs_background": "light"
          }
        },
        {
          "output_type": "display_data",
          "data": {
            "image/png": "[encoded data removed]",
            "text/plain": [
              "<Figure size 720x576 with 1 Axes>"
            ]
          },
          "metadata": {
            "needs_background": "light"
          }
        }
      ]
    },
    {
      "cell_type": "code",
      "source": [
        ""
      ],
      "metadata": {
        "id": "4He_n7z2PEWy"
      },
      "execution_count": null,
      "outputs": []
    }
  ]
}